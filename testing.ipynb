{
 "cells": [
  {
   "cell_type": "code",
   "execution_count": 40,
   "metadata": {},
   "outputs": [],
   "source": [
    "from keras.datasets import mnist\n",
    "import numpy as np"
   ]
  },
  {
   "cell_type": "code",
   "execution_count": 51,
   "metadata": {},
   "outputs": [],
   "source": [
    "# Loading the data\n",
    "\n",
    "# x_train : training data, 60,000 images\n",
    "# y_train : training labels, 60,0000 labels\n",
    "# x_test : testing data, 10,000 images\n",
    "# y_test : testing labels, 10,000 labels\n",
    "(x_train, y_train), (x_test, y_test) = mnist.load_data()\n",
    "\n",
    "# Normalize the data\n",
    "x_train = x_train.astype('float32') / 255  # normalize\n",
    "\n",
    "# Reshape (flatten) the data\n",
    "num_images = x_train.shape[0]\n",
    "image_height = x_train.shape[1]\n",
    "image_width = x_train.shape[2]\n",
    "x_train = x_train.reshape(num_images, image_height * image_width)\n",
    "\n",
    "# One-hot encode the labels\n",
    "one_hot_encoded = np.zeros((y_train.size, 10), dtype='uint8')\n",
    "one_hot_encoded[np.arange(y_train.size), y_train] = 1 "
   ]
  },
  {
   "cell_type": "code",
   "execution_count": null,
   "metadata": {},
   "outputs": [],
   "source": [
    "# Assigning weights\n",
    "\n",
    "\n",
    "# Defining layers"
   ]
  }
 ],
 "metadata": {
  "kernelspec": {
   "display_name": "Python 3",
   "language": "python",
   "name": "python3"
  },
  "language_info": {
   "codemirror_mode": {
    "name": "ipython",
    "version": 3
   },
   "file_extension": ".py",
   "mimetype": "text/x-python",
   "name": "python",
   "nbconvert_exporter": "python",
   "pygments_lexer": "ipython3",
   "version": "3.11.0"
  }
 },
 "nbformat": 4,
 "nbformat_minor": 2
}
